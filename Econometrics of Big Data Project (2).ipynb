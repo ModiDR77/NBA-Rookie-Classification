{
 "cells": [
  {
   "cell_type": "code",
   "execution_count": 100,
   "id": "0db94385",
   "metadata": {},
   "outputs": [],
   "source": [
    "import pandas as pd\n",
    "import numpy as np\n",
    "from sklearn.model_selection import train_test_split"
   ]
  },
  {
   "cell_type": "code",
   "execution_count": 101,
   "id": "8ed19a8e",
   "metadata": {},
   "outputs": [
    {
     "data": {
      "text/plain": [
       "(1340, 21)"
      ]
     },
     "execution_count": 101,
     "metadata": {},
     "output_type": "execute_result"
    }
   ],
   "source": [
    "data = pd.read_csv(r'C:\\Users\\modid\\Desktop\\NBA_Rookie_Predictions.csv')\n",
    "data.shape\n",
    "#importing the dataset in and checking shape"
   ]
  },
  {
   "cell_type": "code",
   "execution_count": 102,
   "id": "664ef4c2",
   "metadata": {},
   "outputs": [
    {
     "data": {
      "text/plain": [
       "(1329, 21)"
      ]
     },
     "execution_count": 102,
     "metadata": {},
     "output_type": "execute_result"
    }
   ],
   "source": [
    "data_new = data.dropna()\n",
    "data_new.shape\n",
    "#dropping the rows with missing values"
   ]
  },
  {
   "cell_type": "code",
   "execution_count": 103,
   "id": "702cb121",
   "metadata": {},
   "outputs": [],
   "source": [
    "X = data_new.drop(['name', 'target_5yrs'], axis=1)\n",
    "y = data_new['target_5yrs']\n",
    "#splitting the predictors and target"
   ]
  },
  {
   "cell_type": "code",
   "execution_count": 104,
   "id": "a6ccd6ab",
   "metadata": {},
   "outputs": [],
   "source": [
    "X_train, X_test, y_train, y_test = train_test_split(X, y, test_size=0.3)\n",
    "#splitting the data into train and test models"
   ]
  },
  {
   "cell_type": "code",
   "execution_count": 105,
   "id": "845fb0ca",
   "metadata": {},
   "outputs": [
    {
     "data": {
      "text/plain": [
       "array([[ 84,  69],\n",
       "       [ 44, 202]], dtype=int64)"
      ]
     },
     "execution_count": 105,
     "metadata": {},
     "output_type": "execute_result"
    }
   ],
   "source": [
    "from sklearn.linear_model import LogisticRegression\n",
    "from sklearn.metrics import accuracy_score, classification_report, confusion_matrix\n",
    "log_reg = LogisticRegression(max_iter = 10000)\n",
    "log_reg.fit(X_train,y_train)#fit to training data\n",
    "y_pred_log = log_reg.predict(X_test)#predict on test data\n",
    "log_cm = confusion_matrix(y_test, y_pred_log)\n",
    "log_cm"
   ]
  },
  {
   "cell_type": "code",
   "execution_count": 106,
   "id": "e7a52aed",
   "metadata": {},
   "outputs": [
    {
     "data": {
      "text/plain": [
       "0.28320802005012535"
      ]
     },
     "execution_count": 106,
     "metadata": {},
     "output_type": "execute_result"
    }
   ],
   "source": [
    "error_rate = 1 - accuracy_score(y_test, y_pred_log)\n",
    "error_rate \n",
    "#obtaining accuracy of model"
   ]
  },
  {
   "cell_type": "code",
   "execution_count": 107,
   "id": "936ed2da",
   "metadata": {},
   "outputs": [
    {
     "data": {
      "text/plain": [
       "array([ 0.03608031, -0.04147289,  0.14324291, -0.72781581,  0.24059492,\n",
       "        0.05091288,  1.44149439, -0.56181202,  0.00495857,  0.06826616,\n",
       "       -0.05954725,  0.01208377,  0.58801621, -0.27307952,  0.11206921,\n",
       "        0.18578501, -0.06734523,  0.75187748,  0.06231129])"
      ]
     },
     "execution_count": 107,
     "metadata": {},
     "output_type": "execute_result"
    }
   ],
   "source": [
    "coefficients = log_reg.coef_[0]\n",
    "coefficients\n",
    "#obtaining coefficients"
   ]
  },
  {
   "cell_type": "code",
   "execution_count": 108,
   "id": "b1a6da19",
   "metadata": {},
   "outputs": [
    {
     "data": {
      "text/plain": [
       "'              precision    recall  f1-score   support\\n\\n           0       0.66      0.55      0.60       153\\n           1       0.75      0.82      0.78       246\\n\\n    accuracy                           0.72       399\\n   macro avg       0.70      0.69      0.69       399\\nweighted avg       0.71      0.72      0.71       399\\n'"
      ]
     },
     "execution_count": 108,
     "metadata": {},
     "output_type": "execute_result"
    }
   ],
   "source": [
    "log_rep = classification_report(y_test, y_pred_log)\n",
    "log_rep\n",
    "#goodness of fit"
   ]
  },
  {
   "cell_type": "code",
   "execution_count": 109,
   "id": "0fac0c58",
   "metadata": {},
   "outputs": [
    {
     "data": {
      "text/plain": [
       "gp         0.570715\n",
       "min        0.272810\n",
       "pts        0.143162\n",
       "fgm        0.055426\n",
       "fga        0.119436\n",
       "fg         0.202989\n",
       "3p_made    0.012579\n",
       "3pa        0.035041\n",
       "3p         0.516587\n",
       "ftm        0.031636\n",
       "fta        0.042296\n",
       "ft         0.337288\n",
       "oreb       0.024789\n",
       "dreb       0.043053\n",
       "reb        0.065175\n",
       "ast        0.046810\n",
       "stl        0.013413\n",
       "blk        0.014200\n",
       "tov        0.024069\n",
       "dtype: float64"
      ]
     },
     "execution_count": 109,
     "metadata": {},
     "output_type": "execute_result"
    }
   ],
   "source": [
    "std = np.std(X_train, axis=0)\n",
    "sample_size = X_train.shape[0]\n",
    "se = std/np.sqrt(sample_size)\n",
    "se\n",
    "#standard error of each of the coefficents"
   ]
  },
  {
   "cell_type": "code",
   "execution_count": 110,
   "id": "79536f79",
   "metadata": {},
   "outputs": [
    {
     "data": {
      "text/plain": [
       "array([0.67204301, 0.67741935, 0.75268817, 0.70430108, 0.73655914])"
      ]
     },
     "execution_count": 110,
     "metadata": {},
     "output_type": "execute_result"
    }
   ],
   "source": [
    "from sklearn.model_selection import cross_val_score\n",
    "cv_acc = cross_val_score(log_reg, X_train, y_train, cv=5, scoring='accuracy')\n",
    "cv_acc\n",
    "#running cross validation on the model, using the X and y training data\n",
    "#doing k fold cross validation, using 5 folds"
   ]
  },
  {
   "cell_type": "code",
   "execution_count": 111,
   "id": "2f4e0e02",
   "metadata": {},
   "outputs": [
    {
     "data": {
      "text/plain": [
       "0.7086021505376344"
      ]
     },
     "execution_count": 111,
     "metadata": {},
     "output_type": "execute_result"
    }
   ],
   "source": [
    "average_acc = np.mean(cv_acc)\n",
    "average_acc\n",
    "#taking the average of all of folds to obtain how well the model performs"
   ]
  },
  {
   "cell_type": "code",
   "execution_count": null,
   "id": "14876741",
   "metadata": {},
   "outputs": [],
   "source": []
  },
  {
   "cell_type": "code",
   "execution_count": null,
   "id": "21c83efc",
   "metadata": {},
   "outputs": [],
   "source": []
  },
  {
   "cell_type": "code",
   "execution_count": 112,
   "id": "f3a435ea",
   "metadata": {},
   "outputs": [],
   "source": [
    "###LDA Analysis"
   ]
  },
  {
   "cell_type": "code",
   "execution_count": 113,
   "id": "53c76277",
   "metadata": {},
   "outputs": [
    {
     "data": {
      "text/plain": [
       "array([[ 85,  68],\n",
       "       [ 43, 203]], dtype=int64)"
      ]
     },
     "execution_count": 113,
     "metadata": {},
     "output_type": "execute_result"
    }
   ],
   "source": [
    "from sklearn.discriminant_analysis import LinearDiscriminantAnalysis\n",
    "lda_model = LinearDiscriminantAnalysis()\n",
    "lda_model.fit(X_train,y_train)\n",
    "y_pred_lda = lda_model.predict(X_test)\n",
    "lda_cm = confusion_matrix(y_test, y_pred_lda)\n",
    "lda_cm"
   ]
  },
  {
   "cell_type": "code",
   "execution_count": 114,
   "id": "2eb40b35",
   "metadata": {},
   "outputs": [
    {
     "data": {
      "text/plain": [
       "0.27819548872180455"
      ]
     },
     "execution_count": 114,
     "metadata": {},
     "output_type": "execute_result"
    }
   ],
   "source": [
    "error_rate_lda = 1 - accuracy_score(y_test, y_pred_lda)\n",
    "error_rate_lda"
   ]
  },
  {
   "cell_type": "code",
   "execution_count": 115,
   "id": "86954805",
   "metadata": {},
   "outputs": [
    {
     "data": {
      "text/plain": [
       "array([ 4.12045874e-02, -3.26601457e-02,  1.13678743e-01, -1.45808228e+00,\n",
       "        6.09499561e-01,  8.21856565e-02,  4.01883026e+00, -1.55291668e+00,\n",
       "        2.88307629e-03, -2.09158433e-01,  1.22587172e-01,  1.70911894e-02,\n",
       "        1.25150723e+00,  4.23120527e-01, -6.06899357e-01,  1.64622230e-01,\n",
       "       -1.18019383e-02,  6.02904733e-01,  4.58506190e-02])"
      ]
     },
     "execution_count": 115,
     "metadata": {},
     "output_type": "execute_result"
    }
   ],
   "source": [
    "coefficients_lda = lda_model.coef_[0]\n",
    "coefficients_lda"
   ]
  },
  {
   "cell_type": "code",
   "execution_count": 116,
   "id": "aa86b070",
   "metadata": {},
   "outputs": [
    {
     "data": {
      "text/plain": [
       "'              precision    recall  f1-score   support\\n\\n           0       0.66      0.56      0.60       153\\n           1       0.75      0.83      0.79       246\\n\\n    accuracy                           0.72       399\\n   macro avg       0.71      0.69      0.70       399\\nweighted avg       0.72      0.72      0.72       399\\n'"
      ]
     },
     "execution_count": 116,
     "metadata": {},
     "output_type": "execute_result"
    }
   ],
   "source": [
    "lda_rep = classification_report(y_test, y_pred_lda)\n",
    "lda_rep"
   ]
  },
  {
   "cell_type": "code",
   "execution_count": 117,
   "id": "c5435032",
   "metadata": {},
   "outputs": [
    {
     "data": {
      "text/plain": [
       "array([0.66129032, 0.66129032, 0.75268817, 0.6827957 , 0.73655914])"
      ]
     },
     "execution_count": 117,
     "metadata": {},
     "output_type": "execute_result"
    }
   ],
   "source": [
    "cv_acc_lda = cross_val_score(lda_model, X_train, y_train, cv=5, scoring='accuracy')\n",
    "cv_acc_lda"
   ]
  },
  {
   "cell_type": "code",
   "execution_count": 118,
   "id": "24fc20df",
   "metadata": {},
   "outputs": [
    {
     "data": {
      "text/plain": [
       "0.6989247311827956"
      ]
     },
     "execution_count": 118,
     "metadata": {},
     "output_type": "execute_result"
    }
   ],
   "source": [
    "average_acc_lda = np.mean(cv_acc_lda)\n",
    "average_acc_lda"
   ]
  },
  {
   "cell_type": "code",
   "execution_count": 119,
   "id": "a3ba9204",
   "metadata": {},
   "outputs": [],
   "source": [
    "from sklearn.utils import resample\n",
    "num_bootstraps = 1000 \n",
    "coef_list = [] "
   ]
  },
  {
   "cell_type": "code",
   "execution_count": 158,
   "id": "a6caeeb8",
   "metadata": {},
   "outputs": [
    {
     "data": {
      "text/plain": [
       "array([[ 0.03464551, -0.02527599, -0.52279653, ..., -0.30477843,\n",
       "         0.41237472,  0.11052142],\n",
       "       [ 0.04698796, -0.0896188 ,  0.28757558, ...,  0.27664974,\n",
       "         0.34485008, -0.30430118],\n",
       "       [ 0.04301429, -0.00233044,  0.11774165, ..., -0.39032792,\n",
       "        -0.16847388, -0.15700336],\n",
       "       ...,\n",
       "       [ 0.04120459, -0.03266015,  0.11367874, ..., -0.01180194,\n",
       "         0.60290473,  0.04585062],\n",
       "       [ 0.04120459, -0.03266015,  0.11367874, ..., -0.01180194,\n",
       "         0.60290473,  0.04585062],\n",
       "       [ 0.04120459, -0.03266015,  0.11367874, ..., -0.01180194,\n",
       "         0.60290473,  0.04585062]])"
      ]
     },
     "execution_count": 158,
     "metadata": {},
     "output_type": "execute_result"
    }
   ],
   "source": [
    "for i in range(num_bootstraps):\n",
    "    X_sample, y_sample = resample(X, y)\n",
    "    lda = LinearDiscriminantAnalysis()\n",
    "    lda.fit(X_sample, y_sample)\n",
    "    coef_list.append(lda_model.coef_[0]) \n",
    "    \n",
    "coef_array = np.array(coef_list)\n",
    "coef_array"
   ]
  },
  {
   "cell_type": "code",
   "execution_count": null,
   "id": "8bac2836",
   "metadata": {},
   "outputs": [],
   "source": [
    "\n"
   ]
  },
  {
   "cell_type": "code",
   "execution_count": null,
   "id": "67da4a45",
   "metadata": {},
   "outputs": [],
   "source": []
  },
  {
   "cell_type": "code",
   "execution_count": null,
   "id": "e430bc14",
   "metadata": {},
   "outputs": [],
   "source": []
  },
  {
   "cell_type": "code",
   "execution_count": 28,
   "id": "6df8d056",
   "metadata": {},
   "outputs": [],
   "source": [
    "###QDA(Used to be K Nearest Neighbors, but issue with new Sklearn library, KNN results on my document)."
   ]
  },
  {
   "cell_type": "code",
   "execution_count": 121,
   "id": "ba4c2a05",
   "metadata": {},
   "outputs": [
    {
     "data": {
      "text/plain": [
       "array([[116,  37],\n",
       "       [100, 146]], dtype=int64)"
      ]
     },
     "execution_count": 121,
     "metadata": {},
     "output_type": "execute_result"
    }
   ],
   "source": [
    "from sklearn.discriminant_analysis import QuadraticDiscriminantAnalysis\n",
    "qda_model = QuadraticDiscriminantAnalysis()\n",
    "qda_model.fit(X_train,y_train)\n",
    "y_pred_qda = qda_model.predict(X_test)\n",
    "qda_cm = confusion_matrix(y_test, y_pred_qda)\n",
    "qda_cm"
   ]
  },
  {
   "cell_type": "code",
   "execution_count": 122,
   "id": "c8f69bac",
   "metadata": {},
   "outputs": [
    {
     "data": {
      "text/plain": [
       "0.343358395989975"
      ]
     },
     "execution_count": 122,
     "metadata": {},
     "output_type": "execute_result"
    }
   ],
   "source": [
    "error_rate_qda = 1 - accuracy_score(y_test, y_pred_qda)\n",
    "error_rate_qda"
   ]
  },
  {
   "cell_type": "code",
   "execution_count": null,
   "id": "b5e00e28",
   "metadata": {},
   "outputs": [],
   "source": []
  },
  {
   "cell_type": "code",
   "execution_count": 123,
   "id": "dc4d701c",
   "metadata": {},
   "outputs": [
    {
     "data": {
      "text/plain": [
       "'              precision    recall  f1-score   support\\n\\n           0       0.54      0.76      0.63       153\\n           1       0.80      0.59      0.68       246\\n\\n    accuracy                           0.66       399\\n   macro avg       0.67      0.68      0.65       399\\nweighted avg       0.70      0.66      0.66       399\\n'"
      ]
     },
     "execution_count": 123,
     "metadata": {},
     "output_type": "execute_result"
    }
   ],
   "source": [
    "qda_rep = classification_report(y_test, y_pred_qda)\n",
    "qda_rep"
   ]
  },
  {
   "cell_type": "code",
   "execution_count": 124,
   "id": "b90a834f",
   "metadata": {},
   "outputs": [
    {
     "data": {
      "text/plain": [
       "array([0.62903226, 0.62903226, 0.69892473, 0.60752688, 0.6344086 ])"
      ]
     },
     "execution_count": 124,
     "metadata": {},
     "output_type": "execute_result"
    }
   ],
   "source": [
    "cv_acc_qda = cross_val_score(qda_model, X_train, y_train, cv=5, scoring='accuracy')\n",
    "cv_acc_qda"
   ]
  },
  {
   "cell_type": "code",
   "execution_count": 125,
   "id": "5a63aa82",
   "metadata": {},
   "outputs": [
    {
     "data": {
      "text/plain": [
       "0.6397849462365591"
      ]
     },
     "execution_count": 125,
     "metadata": {},
     "output_type": "execute_result"
    }
   ],
   "source": [
    "average_acc_qda = np.mean(cv_acc_qda)\n",
    "average_acc_qda"
   ]
  },
  {
   "cell_type": "code",
   "execution_count": null,
   "id": "7d483cbb",
   "metadata": {},
   "outputs": [],
   "source": []
  },
  {
   "cell_type": "code",
   "execution_count": 126,
   "id": "72a16e41",
   "metadata": {},
   "outputs": [],
   "source": [
    "###Random Forest"
   ]
  },
  {
   "cell_type": "code",
   "execution_count": 127,
   "id": "1840e4dc",
   "metadata": {},
   "outputs": [
    {
     "data": {
      "text/plain": [
       "array([[ 73,  80],\n",
       "       [ 54, 192]], dtype=int64)"
      ]
     },
     "execution_count": 127,
     "metadata": {},
     "output_type": "execute_result"
    }
   ],
   "source": [
    "from sklearn.ensemble import RandomForestClassifier\n",
    "rf_model = RandomForestClassifier()\n",
    "rf_model.fit(X_train, y_train)\n",
    "y_pred_rf = rf_model.predict(X_test)\n",
    "rf_cm = confusion_matrix(y_test, y_pred_rf)\n",
    "rf_cm"
   ]
  },
  {
   "cell_type": "code",
   "execution_count": 128,
   "id": "f1482817",
   "metadata": {},
   "outputs": [
    {
     "data": {
      "text/plain": [
       "0.3358395989974937"
      ]
     },
     "execution_count": 128,
     "metadata": {},
     "output_type": "execute_result"
    }
   ],
   "source": [
    "error_rate_rf = 1 - accuracy_score(y_test, y_pred_rf)\n",
    "error_rate_rf"
   ]
  },
  {
   "cell_type": "code",
   "execution_count": 129,
   "id": "78f17486",
   "metadata": {},
   "outputs": [
    {
     "data": {
      "text/plain": [
       "'              precision    recall  f1-score   support\\n\\n           0       0.57      0.48      0.52       153\\n           1       0.71      0.78      0.74       246\\n\\n    accuracy                           0.66       399\\n   macro avg       0.64      0.63      0.63       399\\nweighted avg       0.66      0.66      0.66       399\\n'"
      ]
     },
     "execution_count": 129,
     "metadata": {},
     "output_type": "execute_result"
    }
   ],
   "source": [
    "rf_rep = classification_report(y_test, y_pred_rf)\n",
    "rf_rep"
   ]
  },
  {
   "cell_type": "code",
   "execution_count": 130,
   "id": "4b6feaff",
   "metadata": {},
   "outputs": [
    {
     "data": {
      "text/plain": [
       "array([0.67741935, 0.70430108, 0.74193548, 0.64516129, 0.70430108])"
      ]
     },
     "execution_count": 130,
     "metadata": {},
     "output_type": "execute_result"
    }
   ],
   "source": [
    "cv_acc_rf = cross_val_score(rf_model, X_train, y_train, cv=5, scoring='accuracy')\n",
    "cv_acc_rf"
   ]
  },
  {
   "cell_type": "code",
   "execution_count": 131,
   "id": "f1d7b602",
   "metadata": {},
   "outputs": [
    {
     "data": {
      "text/plain": [
       "0.6946236559139786"
      ]
     },
     "execution_count": 131,
     "metadata": {},
     "output_type": "execute_result"
    }
   ],
   "source": [
    "average_acc_rf = np.mean(cv_acc_rf)\n",
    "average_acc_rf"
   ]
  },
  {
   "cell_type": "code",
   "execution_count": 132,
   "id": "1bf73b72",
   "metadata": {},
   "outputs": [
    {
     "data": {
      "text/html": [
       "<div>\n",
       "<style scoped>\n",
       "    .dataframe tbody tr th:only-of-type {\n",
       "        vertical-align: middle;\n",
       "    }\n",
       "\n",
       "    .dataframe tbody tr th {\n",
       "        vertical-align: top;\n",
       "    }\n",
       "\n",
       "    .dataframe thead th {\n",
       "        text-align: right;\n",
       "    }\n",
       "</style>\n",
       "<table border=\"1\" class=\"dataframe\">\n",
       "  <thead>\n",
       "    <tr style=\"text-align: right;\">\n",
       "      <th></th>\n",
       "      <th>Feature</th>\n",
       "      <th>Coefficient</th>\n",
       "    </tr>\n",
       "  </thead>\n",
       "  <tbody>\n",
       "    <tr>\n",
       "      <th>0</th>\n",
       "      <td>gp</td>\n",
       "      <td>0.111924</td>\n",
       "    </tr>\n",
       "    <tr>\n",
       "      <th>1</th>\n",
       "      <td>min</td>\n",
       "      <td>0.064362</td>\n",
       "    </tr>\n",
       "    <tr>\n",
       "      <th>2</th>\n",
       "      <td>pts</td>\n",
       "      <td>0.062196</td>\n",
       "    </tr>\n",
       "    <tr>\n",
       "      <th>3</th>\n",
       "      <td>fgm</td>\n",
       "      <td>0.062725</td>\n",
       "    </tr>\n",
       "    <tr>\n",
       "      <th>4</th>\n",
       "      <td>fga</td>\n",
       "      <td>0.050448</td>\n",
       "    </tr>\n",
       "    <tr>\n",
       "      <th>5</th>\n",
       "      <td>fg</td>\n",
       "      <td>0.082833</td>\n",
       "    </tr>\n",
       "    <tr>\n",
       "      <th>6</th>\n",
       "      <td>3p_made</td>\n",
       "      <td>0.022418</td>\n",
       "    </tr>\n",
       "    <tr>\n",
       "      <th>7</th>\n",
       "      <td>3pa</td>\n",
       "      <td>0.032614</td>\n",
       "    </tr>\n",
       "    <tr>\n",
       "      <th>8</th>\n",
       "      <td>3p</td>\n",
       "      <td>0.044514</td>\n",
       "    </tr>\n",
       "    <tr>\n",
       "      <th>9</th>\n",
       "      <td>ftm</td>\n",
       "      <td>0.050234</td>\n",
       "    </tr>\n",
       "    <tr>\n",
       "      <th>10</th>\n",
       "      <td>fta</td>\n",
       "      <td>0.052687</td>\n",
       "    </tr>\n",
       "    <tr>\n",
       "      <th>11</th>\n",
       "      <td>ft</td>\n",
       "      <td>0.061918</td>\n",
       "    </tr>\n",
       "    <tr>\n",
       "      <th>12</th>\n",
       "      <td>oreb</td>\n",
       "      <td>0.044187</td>\n",
       "    </tr>\n",
       "    <tr>\n",
       "      <th>13</th>\n",
       "      <td>dreb</td>\n",
       "      <td>0.047242</td>\n",
       "    </tr>\n",
       "    <tr>\n",
       "      <th>14</th>\n",
       "      <td>reb</td>\n",
       "      <td>0.051974</td>\n",
       "    </tr>\n",
       "    <tr>\n",
       "      <th>15</th>\n",
       "      <td>ast</td>\n",
       "      <td>0.046681</td>\n",
       "    </tr>\n",
       "    <tr>\n",
       "      <th>16</th>\n",
       "      <td>stl</td>\n",
       "      <td>0.032952</td>\n",
       "    </tr>\n",
       "    <tr>\n",
       "      <th>17</th>\n",
       "      <td>blk</td>\n",
       "      <td>0.038293</td>\n",
       "    </tr>\n",
       "    <tr>\n",
       "      <th>18</th>\n",
       "      <td>tov</td>\n",
       "      <td>0.039800</td>\n",
       "    </tr>\n",
       "  </tbody>\n",
       "</table>\n",
       "</div>"
      ],
      "text/plain": [
       "    Feature  Coefficient\n",
       "0        gp     0.111924\n",
       "1       min     0.064362\n",
       "2       pts     0.062196\n",
       "3       fgm     0.062725\n",
       "4       fga     0.050448\n",
       "5        fg     0.082833\n",
       "6   3p_made     0.022418\n",
       "7       3pa     0.032614\n",
       "8        3p     0.044514\n",
       "9       ftm     0.050234\n",
       "10      fta     0.052687\n",
       "11       ft     0.061918\n",
       "12     oreb     0.044187\n",
       "13     dreb     0.047242\n",
       "14      reb     0.051974\n",
       "15      ast     0.046681\n",
       "16      stl     0.032952\n",
       "17      blk     0.038293\n",
       "18      tov     0.039800"
      ]
     },
     "execution_count": 132,
     "metadata": {},
     "output_type": "execute_result"
    }
   ],
   "source": [
    "feature_importance = pd.DataFrame({\n",
    "    'Feature': X_train.columns,\n",
    "    'Coefficient': rf_model.feature_importances_})\n",
    "\n",
    "feature_importance"
   ]
  },
  {
   "cell_type": "code",
   "execution_count": 133,
   "id": "aa08cf07",
   "metadata": {},
   "outputs": [],
   "source": [
    "num_bootstraps = 10\n",
    "feature_importances = []"
   ]
  },
  {
   "cell_type": "code",
   "execution_count": 134,
   "id": "495c9ef7",
   "metadata": {},
   "outputs": [],
   "source": [
    "for i in range(num_bootstraps):\n",
    "    X_sample, y_sample = resample(X, y)\n",
    "    rf = RandomForestClassifier()\n",
    "    rf.fit(X_sample, y_sample)\n",
    "    feature_importances.append(rf.feature_importances_)"
   ]
  },
  {
   "cell_type": "code",
   "execution_count": 135,
   "id": "3273b19e",
   "metadata": {},
   "outputs": [
    {
     "data": {
      "text/plain": [
       "array([0.01497074, 0.00657489, 0.00511298, 0.00616035, 0.00391987,\n",
       "       0.00774345, 0.00174248, 0.00199712, 0.00321969, 0.00776175,\n",
       "       0.00451264, 0.00460588, 0.00613606, 0.00413104, 0.00363989,\n",
       "       0.00176143, 0.00234078, 0.00443688, 0.00261307])"
      ]
     },
     "execution_count": 135,
     "metadata": {},
     "output_type": "execute_result"
    }
   ],
   "source": [
    "feature_array = np.array(feature_importances)\n",
    "standard_errors = np.std(feature_array, axis=0)\n",
    "standard_errors"
   ]
  },
  {
   "cell_type": "code",
   "execution_count": null,
   "id": "186562bc",
   "metadata": {},
   "outputs": [],
   "source": []
  },
  {
   "cell_type": "code",
   "execution_count": null,
   "id": "dae7312d",
   "metadata": {},
   "outputs": [],
   "source": []
  },
  {
   "cell_type": "code",
   "execution_count": 136,
   "id": "1c92b63e",
   "metadata": {},
   "outputs": [],
   "source": [
    "###Lasso Regression for Classification"
   ]
  },
  {
   "cell_type": "code",
   "execution_count": null,
   "id": "f0d7d188",
   "metadata": {},
   "outputs": [],
   "source": []
  },
  {
   "cell_type": "code",
   "execution_count": 137,
   "id": "c8112843",
   "metadata": {},
   "outputs": [
    {
     "data": {
      "text/plain": [
       "array([[ 85,  68],\n",
       "       [ 48, 198]], dtype=int64)"
      ]
     },
     "execution_count": 137,
     "metadata": {},
     "output_type": "execute_result"
    }
   ],
   "source": [
    "from sklearn.linear_model import LogisticRegressionCV\n",
    "lasso = LogisticRegressionCV(cv=5, penalty='l1', solver='liblinear', max_iter = 100000)##automatically picks the tuning parameter using cross validation. \n",
    "lasso.fit(X_train, y_train)\n",
    "y_pred_lasso = lasso.predict(X_test)\n",
    "lasso_cm = confusion_matrix(y_test, y_pred_lasso)\n",
    "lasso_cm"
   ]
  },
  {
   "cell_type": "code",
   "execution_count": 138,
   "id": "6144321c",
   "metadata": {},
   "outputs": [
    {
     "data": {
      "text/plain": [
       "0.2907268170426065"
      ]
     },
     "execution_count": 138,
     "metadata": {},
     "output_type": "execute_result"
    }
   ],
   "source": [
    "error_rate_lasso = 1 - accuracy_score(y_test, y_pred_lasso)\n",
    "error_rate_lasso"
   ]
  },
  {
   "cell_type": "code",
   "execution_count": 139,
   "id": "ddaca27c",
   "metadata": {},
   "outputs": [
    {
     "data": {
      "text/plain": [
       "'              precision    recall  f1-score   support\\n\\n           0       0.64      0.56      0.59       153\\n           1       0.74      0.80      0.77       246\\n\\n    accuracy                           0.71       399\\n   macro avg       0.69      0.68      0.68       399\\nweighted avg       0.70      0.71      0.70       399\\n'"
      ]
     },
     "execution_count": 139,
     "metadata": {},
     "output_type": "execute_result"
    }
   ],
   "source": [
    "lasso_rep = classification_report(y_test, y_pred_lasso)\n",
    "lasso_rep"
   ]
  },
  {
   "cell_type": "code",
   "execution_count": 140,
   "id": "d7c77214",
   "metadata": {},
   "outputs": [
    {
     "data": {
      "text/html": [
       "<div>\n",
       "<style scoped>\n",
       "    .dataframe tbody tr th:only-of-type {\n",
       "        vertical-align: middle;\n",
       "    }\n",
       "\n",
       "    .dataframe tbody tr th {\n",
       "        vertical-align: top;\n",
       "    }\n",
       "\n",
       "    .dataframe thead th {\n",
       "        text-align: right;\n",
       "    }\n",
       "</style>\n",
       "<table border=\"1\" class=\"dataframe\">\n",
       "  <thead>\n",
       "    <tr style=\"text-align: right;\">\n",
       "      <th></th>\n",
       "      <th>Feature</th>\n",
       "      <th>Coefficient</th>\n",
       "    </tr>\n",
       "  </thead>\n",
       "  <tbody>\n",
       "    <tr>\n",
       "      <th>0</th>\n",
       "      <td>gp</td>\n",
       "      <td>0.036056</td>\n",
       "    </tr>\n",
       "    <tr>\n",
       "      <th>1</th>\n",
       "      <td>min</td>\n",
       "      <td>-0.048045</td>\n",
       "    </tr>\n",
       "    <tr>\n",
       "      <th>2</th>\n",
       "      <td>pts</td>\n",
       "      <td>0.000000</td>\n",
       "    </tr>\n",
       "    <tr>\n",
       "      <th>3</th>\n",
       "      <td>fgm</td>\n",
       "      <td>-0.555065</td>\n",
       "    </tr>\n",
       "    <tr>\n",
       "      <th>4</th>\n",
       "      <td>fga</td>\n",
       "      <td>0.313201</td>\n",
       "    </tr>\n",
       "    <tr>\n",
       "      <th>5</th>\n",
       "      <td>fg</td>\n",
       "      <td>0.044278</td>\n",
       "    </tr>\n",
       "    <tr>\n",
       "      <th>6</th>\n",
       "      <td>3p_made</td>\n",
       "      <td>3.508661</td>\n",
       "    </tr>\n",
       "    <tr>\n",
       "      <th>7</th>\n",
       "      <td>3pa</td>\n",
       "      <td>-1.265343</td>\n",
       "    </tr>\n",
       "    <tr>\n",
       "      <th>8</th>\n",
       "      <td>3p</td>\n",
       "      <td>0.002964</td>\n",
       "    </tr>\n",
       "    <tr>\n",
       "      <th>9</th>\n",
       "      <td>ftm</td>\n",
       "      <td>0.141796</td>\n",
       "    </tr>\n",
       "    <tr>\n",
       "      <th>10</th>\n",
       "      <td>fta</td>\n",
       "      <td>0.000000</td>\n",
       "    </tr>\n",
       "    <tr>\n",
       "      <th>11</th>\n",
       "      <td>ft</td>\n",
       "      <td>0.011798</td>\n",
       "    </tr>\n",
       "    <tr>\n",
       "      <th>12</th>\n",
       "      <td>oreb</td>\n",
       "      <td>0.709830</td>\n",
       "    </tr>\n",
       "    <tr>\n",
       "      <th>13</th>\n",
       "      <td>dreb</td>\n",
       "      <td>-0.159098</td>\n",
       "    </tr>\n",
       "    <tr>\n",
       "      <th>14</th>\n",
       "      <td>reb</td>\n",
       "      <td>0.000000</td>\n",
       "    </tr>\n",
       "    <tr>\n",
       "      <th>15</th>\n",
       "      <td>ast</td>\n",
       "      <td>0.212925</td>\n",
       "    </tr>\n",
       "    <tr>\n",
       "      <th>16</th>\n",
       "      <td>stl</td>\n",
       "      <td>0.000000</td>\n",
       "    </tr>\n",
       "    <tr>\n",
       "      <th>17</th>\n",
       "      <td>blk</td>\n",
       "      <td>0.799254</td>\n",
       "    </tr>\n",
       "    <tr>\n",
       "      <th>18</th>\n",
       "      <td>tov</td>\n",
       "      <td>0.000000</td>\n",
       "    </tr>\n",
       "  </tbody>\n",
       "</table>\n",
       "</div>"
      ],
      "text/plain": [
       "    Feature  Coefficient\n",
       "0        gp     0.036056\n",
       "1       min    -0.048045\n",
       "2       pts     0.000000\n",
       "3       fgm    -0.555065\n",
       "4       fga     0.313201\n",
       "5        fg     0.044278\n",
       "6   3p_made     3.508661\n",
       "7       3pa    -1.265343\n",
       "8        3p     0.002964\n",
       "9       ftm     0.141796\n",
       "10      fta     0.000000\n",
       "11       ft     0.011798\n",
       "12     oreb     0.709830\n",
       "13     dreb    -0.159098\n",
       "14      reb     0.000000\n",
       "15      ast     0.212925\n",
       "16      stl     0.000000\n",
       "17      blk     0.799254\n",
       "18      tov     0.000000"
      ]
     },
     "execution_count": 140,
     "metadata": {},
     "output_type": "execute_result"
    }
   ],
   "source": [
    "coefficients_lasso = lasso.coef_[0]\n",
    "coefficients_df = pd.DataFrame({\n",
    "    'Feature': X_train.columns,\n",
    "    'Coefficient': coefficients_lasso\n",
    "})\n",
    "\n",
    "coefficients_df"
   ]
  },
  {
   "cell_type": "code",
   "execution_count": 141,
   "id": "a1b9016b",
   "metadata": {},
   "outputs": [
    {
     "data": {
      "text/plain": [
       "array([0.66666667, 0.64516129, 0.75268817, 0.67741935, 0.73655914])"
      ]
     },
     "execution_count": 141,
     "metadata": {},
     "output_type": "execute_result"
    }
   ],
   "source": [
    "cv_acc_lasso = cross_val_score(lasso, X_train, y_train, cv=5, scoring='accuracy')\n",
    "cv_acc_lasso"
   ]
  },
  {
   "cell_type": "code",
   "execution_count": 142,
   "id": "86091cf2",
   "metadata": {},
   "outputs": [
    {
     "data": {
      "text/plain": [
       "0.6956989247311828"
      ]
     },
     "execution_count": 142,
     "metadata": {},
     "output_type": "execute_result"
    }
   ],
   "source": [
    "average_acc_lasso = np.mean(cv_acc_lasso)\n",
    "average_acc_lasso"
   ]
  },
  {
   "cell_type": "code",
   "execution_count": 143,
   "id": "6be24000",
   "metadata": {},
   "outputs": [],
   "source": [
    "num_bootstraps = 5\n",
    "bootstrapped_coefficients = []"
   ]
  },
  {
   "cell_type": "code",
   "execution_count": 144,
   "id": "55f35e52",
   "metadata": {},
   "outputs": [],
   "source": [
    "for i in range(num_bootstraps):\n",
    "    X_sample, y_sample = resample(X_train, y_train)\n",
    "    lasso = LogisticRegressionCV(cv=5, penalty='l1', solver='liblinear', max_iter=1000000)\n",
    "    lasso.fit(X_sample, y_sample)\n",
    "    bootstrapped_coefficients.append(lasso.coef_[0])"
   ]
  },
  {
   "cell_type": "code",
   "execution_count": 145,
   "id": "fee2b72d",
   "metadata": {},
   "outputs": [],
   "source": [
    "coefficients_array = np.array(bootstrapped_coefficients)\n",
    "sd = np.std(coefficients_array, axis=0)\n",
    "se = sd / np.sqrt(X_train.shape[0])"
   ]
  },
  {
   "cell_type": "code",
   "execution_count": 146,
   "id": "dcf67967",
   "metadata": {},
   "outputs": [
    {
     "data": {
      "text/plain": [
       "array([0.01497074, 0.00657489, 0.00511298, 0.00616035, 0.00391987,\n",
       "       0.00774345, 0.00174248, 0.00199712, 0.00321969, 0.00776175,\n",
       "       0.00451264, 0.00460588, 0.00613606, 0.00413104, 0.00363989,\n",
       "       0.00176143, 0.00234078, 0.00443688, 0.00261307])"
      ]
     },
     "execution_count": 146,
     "metadata": {},
     "output_type": "execute_result"
    }
   ],
   "source": [
    "standard_errors"
   ]
  },
  {
   "cell_type": "code",
   "execution_count": null,
   "id": "cc4b82a3",
   "metadata": {},
   "outputs": [],
   "source": []
  },
  {
   "cell_type": "code",
   "execution_count": null,
   "id": "5c949da9",
   "metadata": {},
   "outputs": [],
   "source": []
  },
  {
   "cell_type": "code",
   "execution_count": 147,
   "id": "7b2081c8",
   "metadata": {},
   "outputs": [],
   "source": [
    "###PCA "
   ]
  },
  {
   "cell_type": "code",
   "execution_count": 148,
   "id": "a6b6a27e",
   "metadata": {},
   "outputs": [],
   "source": [
    "from sklearn.decomposition import PCA"
   ]
  },
  {
   "cell_type": "code",
   "execution_count": 149,
   "id": "360f2af8",
   "metadata": {},
   "outputs": [],
   "source": [
    "pca = PCA(n_components=3)  \n",
    "X_train_pca = pca.fit_transform(X_train)\n",
    "X_test_pca = pca.transform(X_test)"
   ]
  },
  {
   "cell_type": "code",
   "execution_count": 150,
   "id": "2bbf8589",
   "metadata": {},
   "outputs": [
    {
     "data": {
      "text/html": [
       "<style>#sk-container-id-1 {color: black;}#sk-container-id-1 pre{padding: 0;}#sk-container-id-1 div.sk-toggleable {background-color: white;}#sk-container-id-1 label.sk-toggleable__label {cursor: pointer;display: block;width: 100%;margin-bottom: 0;padding: 0.3em;box-sizing: border-box;text-align: center;}#sk-container-id-1 label.sk-toggleable__label-arrow:before {content: \"▸\";float: left;margin-right: 0.25em;color: #696969;}#sk-container-id-1 label.sk-toggleable__label-arrow:hover:before {color: black;}#sk-container-id-1 div.sk-estimator:hover label.sk-toggleable__label-arrow:before {color: black;}#sk-container-id-1 div.sk-toggleable__content {max-height: 0;max-width: 0;overflow: hidden;text-align: left;background-color: #f0f8ff;}#sk-container-id-1 div.sk-toggleable__content pre {margin: 0.2em;color: black;border-radius: 0.25em;background-color: #f0f8ff;}#sk-container-id-1 input.sk-toggleable__control:checked~div.sk-toggleable__content {max-height: 200px;max-width: 100%;overflow: auto;}#sk-container-id-1 input.sk-toggleable__control:checked~label.sk-toggleable__label-arrow:before {content: \"▾\";}#sk-container-id-1 div.sk-estimator input.sk-toggleable__control:checked~label.sk-toggleable__label {background-color: #d4ebff;}#sk-container-id-1 div.sk-label input.sk-toggleable__control:checked~label.sk-toggleable__label {background-color: #d4ebff;}#sk-container-id-1 input.sk-hidden--visually {border: 0;clip: rect(1px 1px 1px 1px);clip: rect(1px, 1px, 1px, 1px);height: 1px;margin: -1px;overflow: hidden;padding: 0;position: absolute;width: 1px;}#sk-container-id-1 div.sk-estimator {font-family: monospace;background-color: #f0f8ff;border: 1px dotted black;border-radius: 0.25em;box-sizing: border-box;margin-bottom: 0.5em;}#sk-container-id-1 div.sk-estimator:hover {background-color: #d4ebff;}#sk-container-id-1 div.sk-parallel-item::after {content: \"\";width: 100%;border-bottom: 1px solid gray;flex-grow: 1;}#sk-container-id-1 div.sk-label:hover label.sk-toggleable__label {background-color: #d4ebff;}#sk-container-id-1 div.sk-serial::before {content: \"\";position: absolute;border-left: 1px solid gray;box-sizing: border-box;top: 0;bottom: 0;left: 50%;z-index: 0;}#sk-container-id-1 div.sk-serial {display: flex;flex-direction: column;align-items: center;background-color: white;padding-right: 0.2em;padding-left: 0.2em;position: relative;}#sk-container-id-1 div.sk-item {position: relative;z-index: 1;}#sk-container-id-1 div.sk-parallel {display: flex;align-items: stretch;justify-content: center;background-color: white;position: relative;}#sk-container-id-1 div.sk-item::before, #sk-container-id-1 div.sk-parallel-item::before {content: \"\";position: absolute;border-left: 1px solid gray;box-sizing: border-box;top: 0;bottom: 0;left: 50%;z-index: -1;}#sk-container-id-1 div.sk-parallel-item {display: flex;flex-direction: column;z-index: 1;position: relative;background-color: white;}#sk-container-id-1 div.sk-parallel-item:first-child::after {align-self: flex-end;width: 50%;}#sk-container-id-1 div.sk-parallel-item:last-child::after {align-self: flex-start;width: 50%;}#sk-container-id-1 div.sk-parallel-item:only-child::after {width: 0;}#sk-container-id-1 div.sk-dashed-wrapped {border: 1px dashed gray;margin: 0 0.4em 0.5em 0.4em;box-sizing: border-box;padding-bottom: 0.4em;background-color: white;}#sk-container-id-1 div.sk-label label {font-family: monospace;font-weight: bold;display: inline-block;line-height: 1.2em;}#sk-container-id-1 div.sk-label-container {text-align: center;}#sk-container-id-1 div.sk-container {/* jupyter's `normalize.less` sets `[hidden] { display: none; }` but bootstrap.min.css set `[hidden] { display: none !important; }` so we also need the `!important` here to be able to override the default hidden behavior on the sphinx rendered scikit-learn.org. See: https://github.com/scikit-learn/scikit-learn/issues/21755 */display: inline-block !important;position: relative;}#sk-container-id-1 div.sk-text-repr-fallback {display: none;}</style><div id=\"sk-container-id-1\" class=\"sk-top-container\"><div class=\"sk-text-repr-fallback\"><pre>LogisticRegression()</pre><b>In a Jupyter environment, please rerun this cell to show the HTML representation or trust the notebook. <br />On GitHub, the HTML representation is unable to render, please try loading this page with nbviewer.org.</b></div><div class=\"sk-container\" hidden><div class=\"sk-item\"><div class=\"sk-estimator sk-toggleable\"><input class=\"sk-toggleable__control sk-hidden--visually\" id=\"sk-estimator-id-1\" type=\"checkbox\" checked><label for=\"sk-estimator-id-1\" class=\"sk-toggleable__label sk-toggleable__label-arrow\">LogisticRegression</label><div class=\"sk-toggleable__content\"><pre>LogisticRegression()</pre></div></div></div></div></div>"
      ],
      "text/plain": [
       "LogisticRegression()"
      ]
     },
     "execution_count": 150,
     "metadata": {},
     "output_type": "execute_result"
    }
   ],
   "source": [
    "classifier = LogisticRegression()\n",
    "classifier.fit(X_train_pca, y_train)"
   ]
  },
  {
   "cell_type": "code",
   "execution_count": 151,
   "id": "521d5435",
   "metadata": {},
   "outputs": [],
   "source": [
    "y_pred_pca= classifier.predict(X_test_pca)"
   ]
  },
  {
   "cell_type": "code",
   "execution_count": 152,
   "id": "1df40278",
   "metadata": {},
   "outputs": [
    {
     "data": {
      "text/plain": [
       "array([[ 79,  74],\n",
       "       [ 46, 200]], dtype=int64)"
      ]
     },
     "execution_count": 152,
     "metadata": {},
     "output_type": "execute_result"
    }
   ],
   "source": [
    "pca_cm = confusion_matrix(y_test, y_pred_pca)\n",
    "pca_cm"
   ]
  },
  {
   "cell_type": "code",
   "execution_count": 153,
   "id": "ab62c6f2",
   "metadata": {},
   "outputs": [
    {
     "data": {
      "text/plain": [
       "0.3007518796992481"
      ]
     },
     "execution_count": 153,
     "metadata": {},
     "output_type": "execute_result"
    }
   ],
   "source": [
    "error_rate_PCA = 1 - accuracy_score(y_test, y_pred_pca)\n",
    "error_rate_PCA"
   ]
  },
  {
   "cell_type": "code",
   "execution_count": 154,
   "id": "bd51759d",
   "metadata": {},
   "outputs": [
    {
     "data": {
      "text/plain": [
       "'              precision    recall  f1-score   support\\n\\n           0       0.63      0.52      0.57       153\\n           1       0.73      0.81      0.77       246\\n\\n    accuracy                           0.70       399\\n   macro avg       0.68      0.66      0.67       399\\nweighted avg       0.69      0.70      0.69       399\\n'"
      ]
     },
     "execution_count": 154,
     "metadata": {},
     "output_type": "execute_result"
    }
   ],
   "source": [
    "pca_rep = classification_report(y_test, y_pred_pca)\n",
    "pca_rep"
   ]
  },
  {
   "cell_type": "code",
   "execution_count": 155,
   "id": "6c64a3cc",
   "metadata": {},
   "outputs": [
    {
     "data": {
      "text/plain": [
       "array([-0.04577693, -0.02199835,  0.00417098])"
      ]
     },
     "execution_count": 155,
     "metadata": {},
     "output_type": "execute_result"
    }
   ],
   "source": [
    "coefficients_pca = classifier.coef_[0]\n",
    "coefficients_pca"
   ]
  },
  {
   "cell_type": "code",
   "execution_count": 156,
   "id": "33f4daf9",
   "metadata": {},
   "outputs": [
    {
     "data": {
      "text/plain": [
       "array([0.69892473, 0.66666667, 0.72043011, 0.66666667, 0.7311828 ])"
      ]
     },
     "execution_count": 156,
     "metadata": {},
     "output_type": "execute_result"
    }
   ],
   "source": [
    "cv_acc_pca = cross_val_score(classifier, X_train_pca, y_train, cv=5, scoring='accuracy')\n",
    "cv_acc_pca"
   ]
  },
  {
   "cell_type": "code",
   "execution_count": 157,
   "id": "78bfc829",
   "metadata": {},
   "outputs": [
    {
     "data": {
      "text/plain": [
       "0.696774193548387"
      ]
     },
     "execution_count": 157,
     "metadata": {},
     "output_type": "execute_result"
    }
   ],
   "source": [
    "average_acc_pca = np.mean(cv_acc_pca)\n",
    "average_acc_pca"
   ]
  },
  {
   "cell_type": "code",
   "execution_count": null,
   "id": "d677ebd0",
   "metadata": {},
   "outputs": [],
   "source": []
  },
  {
   "cell_type": "code",
   "execution_count": null,
   "id": "098559eb",
   "metadata": {},
   "outputs": [],
   "source": []
  },
  {
   "cell_type": "code",
   "execution_count": null,
   "id": "63602159",
   "metadata": {},
   "outputs": [],
   "source": []
  },
  {
   "cell_type": "code",
   "execution_count": 56,
   "id": "1d2f3e09",
   "metadata": {},
   "outputs": [
    {
     "name": "stdout",
     "output_type": "stream",
     "text": [
      "Requirement already satisfied: scikit-learn in c:\\users\\modid\\anaconda3\\lib\\site-packages (1.3.2)\n",
      "Requirement already satisfied: joblib>=1.1.1 in c:\\users\\modid\\anaconda3\\lib\\site-packages (from scikit-learn) (1.3.2)\n",
      "Requirement already satisfied: scipy>=1.5.0 in c:\\users\\modid\\anaconda3\\lib\\site-packages (from scikit-learn) (1.10.1)\n",
      "Requirement already satisfied: numpy<2.0,>=1.17.3 in c:\\users\\modid\\anaconda3\\lib\\site-packages (from scikit-learn) (1.24.4)\n",
      "Requirement already satisfied: threadpoolctl>=2.0.0 in c:\\users\\modid\\anaconda3\\lib\\site-packages (from scikit-learn) (2.1.0)\n"
     ]
    }
   ],
   "source": []
  },
  {
   "cell_type": "code",
   "execution_count": 57,
   "id": "c310c7fb",
   "metadata": {},
   "outputs": [],
   "source": [
    "###Polynomial Regression, I was able to figure it out but did include on analysis. "
   ]
  },
  {
   "cell_type": "code",
   "execution_count": 58,
   "id": "88fc9511",
   "metadata": {},
   "outputs": [
    {
     "data": {
      "text/plain": [
       "array([[ 78,  81],\n",
       "       [ 64, 176]], dtype=int64)"
      ]
     },
     "execution_count": 58,
     "metadata": {},
     "output_type": "execute_result"
    }
   ],
   "source": [
    "from sklearn.preprocessing import PolynomialFeatures\n",
    "from sklearn.linear_model import LogisticRegression\n",
    "poly_reg = PolynomialFeatures(degree = 3)\n",
    "X_train_poly = poly_reg.fit_transform(X_train)\n",
    "X_test_poly = poly_reg.transform(X_test)\n",
    "log_poly = LogisticRegression(solver='liblinear', max_iter=10000)\n",
    "log_poly.fit(X_train_poly, y_train)\n",
    "y_pred_poly = log_poly.predict(X_test_poly)\n",
    "poly_cm = confusion_matrix(y_test, y_pred_poly)\n",
    "poly_cm"
   ]
  },
  {
   "cell_type": "code",
   "execution_count": 59,
   "id": "f7675b5b",
   "metadata": {},
   "outputs": [
    {
     "data": {
      "text/plain": [
       "0.3634085213032582"
      ]
     },
     "execution_count": 59,
     "metadata": {},
     "output_type": "execute_result"
    }
   ],
   "source": [
    "error_rate_poly = 1 - accuracy_score(y_test, y_pred_poly)\n",
    "error_rate_poly"
   ]
  },
  {
   "cell_type": "code",
   "execution_count": 60,
   "id": "0357142e",
   "metadata": {
    "scrolled": true
   },
   "outputs": [
    {
     "data": {
      "text/plain": [
       "'              precision    recall  f1-score   support\\n\\n           0       0.55      0.49      0.52       159\\n           1       0.68      0.73      0.71       240\\n\\n    accuracy                           0.64       399\\n   macro avg       0.62      0.61      0.61       399\\nweighted avg       0.63      0.64      0.63       399\\n'"
      ]
     },
     "execution_count": 60,
     "metadata": {},
     "output_type": "execute_result"
    }
   ],
   "source": [
    "poly_rep = classification_report(y_test, y_pred_poly)\n",
    "poly_rep"
   ]
  },
  {
   "cell_type": "code",
   "execution_count": 61,
   "id": "00b4d749",
   "metadata": {},
   "outputs": [
    {
     "data": {
      "text/plain": [
       "array([-3.93924441e-05, -4.27216482e-04, -3.53518923e-04, ...,\n",
       "        1.68082157e-04,  1.29783772e-04, -1.72661155e-04])"
      ]
     },
     "execution_count": 61,
     "metadata": {},
     "output_type": "execute_result"
    }
   ],
   "source": [
    "coefficients_poly = log_poly.coef_[0]\n",
    "coefficients_poly"
   ]
  },
  {
   "cell_type": "code",
   "execution_count": 62,
   "id": "aeb4de9e",
   "metadata": {},
   "outputs": [
    {
     "data": {
      "text/plain": [
       "array([0.60752688, 0.61827957, 0.61827957, 0.69354839, 0.6344086 ])"
      ]
     },
     "execution_count": 62,
     "metadata": {},
     "output_type": "execute_result"
    }
   ],
   "source": [
    "cv_acc_poly = cross_val_score(log_poly, X_train_poly, y_train, cv=5, scoring='accuracy')\n",
    "cv_acc_poly"
   ]
  },
  {
   "cell_type": "code",
   "execution_count": 63,
   "id": "40b54cdd",
   "metadata": {},
   "outputs": [
    {
     "data": {
      "text/plain": [
       "0.7129032258064518"
      ]
     },
     "execution_count": 63,
     "metadata": {},
     "output_type": "execute_result"
    }
   ],
   "source": [
    "average_acc_lasso = np.mean(cv_acc_lasso)\n",
    "average_acc_lasso"
   ]
  },
  {
   "cell_type": "code",
   "execution_count": null,
   "id": "8113b338",
   "metadata": {},
   "outputs": [],
   "source": []
  },
  {
   "cell_type": "code",
   "execution_count": null,
   "id": "423b90f5",
   "metadata": {},
   "outputs": [],
   "source": []
  }
 ],
 "metadata": {
  "kernelspec": {
   "display_name": "Python 3",
   "language": "python",
   "name": "python3"
  },
  "language_info": {
   "codemirror_mode": {
    "name": "ipython",
    "version": 3
   },
   "file_extension": ".py",
   "mimetype": "text/x-python",
   "name": "python",
   "nbconvert_exporter": "python",
   "pygments_lexer": "ipython3",
   "version": "3.8.8"
  }
 },
 "nbformat": 4,
 "nbformat_minor": 5
}
